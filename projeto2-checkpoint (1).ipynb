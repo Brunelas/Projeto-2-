{
 "cells": [
  {
   "cell_type": "markdown",
   "metadata": {},
   "source": [
    "# Insper - Ciência dos Dados 2021/1 #\n",
    "## Projeto 2\n",
    "\n",
    "GRUPO:  Bruno Marques Li Volsi Falcao\n",
    "\n",
    "        Larissa Jordana De Paula Soares\n",
    "       \n",
    "        Luis Antonio Bordignon de Oliveira"
   ]
  },
  {
   "cell_type": "markdown",
   "metadata": {},
   "source": [
    "### Introdução\n",
    "\n",
    "    O vinho é uma bebida produzida a partir da uva; para essa produção, a fruta passa por uma fermentação alcoólica, onde os açúcares naturais da uva se transformam em álcool. Ao contrário de outras bebidas, o vinho possui diversos benefícios para a saúde, se consumido moderadamente.\n",
    "    Neste projeto, temos o intuito de classificarmos os tipos de vinhos - no caso do nosso dataset, os dois tipos da bebida são os vinhos branco (White) e o Tinto (Red). Escolhemos a técnica \"Classificadores\" para o desenvolvimento do projeto, onde foram utilizados os métodos random forest e decision tree."
   ]
  },
  {
   "cell_type": "code",
   "execution_count": 7,
   "metadata": {},
   "outputs": [],
   "source": [
    "from sklearn import tree\n",
    "from sklearn.datasets import load_iris\n",
    "from sklearn.model_selection import cross_val_score\n",
    "import pandas as pd\n",
    "import numpy as np\n",
    "import seaborn as sns\n",
    "import matplotlib.pyplot as plt\n",
    "from sklearn.metrics import plot_confusion_matrix\n",
    "from sklearn.tree import DecisionTreeClassifier # Import Decision Tree Classifier\n",
    "from sklearn.model_selection import train_test_split # Import train_test_split function\n",
    "from sklearn import metrics\n",
    "import warnings\n",
    "warnings.filterwarnings(\"ignore\")\n",
    "%matplotlib inline"
   ]
  },
  {
   "cell_type": "code",
   "execution_count": 8,
   "metadata": {},
   "outputs": [
    {
     "ename": "FileNotFoundError",
     "evalue": "[Errno 2] File winequalityN.csv does not exist: 'winequalityN.csv'",
     "output_type": "error",
     "traceback": [
      "\u001b[1;31m---------------------------------------------------------------------------\u001b[0m",
      "\u001b[1;31mFileNotFoundError\u001b[0m                         Traceback (most recent call last)",
      "\u001b[1;32m<ipython-input-8-41619867bd12>\u001b[0m in \u001b[0;36m<module>\u001b[1;34m\u001b[0m\n\u001b[1;32m----> 1\u001b[1;33m \u001b[0marquivo\u001b[0m \u001b[1;33m=\u001b[0m \u001b[0mpd\u001b[0m\u001b[1;33m.\u001b[0m\u001b[0mread_csv\u001b[0m\u001b[1;33m(\u001b[0m\u001b[1;34m'winequalityN.csv'\u001b[0m\u001b[1;33m)\u001b[0m\u001b[1;33m\u001b[0m\u001b[1;33m\u001b[0m\u001b[0m\n\u001b[0m\u001b[0;32m      2\u001b[0m \u001b[0marquivo\u001b[0m\u001b[1;33m\u001b[0m\u001b[1;33m\u001b[0m\u001b[0m\n\u001b[0;32m      3\u001b[0m \u001b[1;33m\u001b[0m\u001b[0m\n\u001b[0;32m      4\u001b[0m \u001b[1;31m# tabela do vinho pega pela internet cvs\u001b[0m\u001b[1;33m\u001b[0m\u001b[1;33m\u001b[0m\u001b[1;33m\u001b[0m\u001b[0m\n",
      "\u001b[1;32m~\\Anaconda3\\lib\\site-packages\\pandas\\io\\parsers.py\u001b[0m in \u001b[0;36mparser_f\u001b[1;34m(filepath_or_buffer, sep, delimiter, header, names, index_col, usecols, squeeze, prefix, mangle_dupe_cols, dtype, engine, converters, true_values, false_values, skipinitialspace, skiprows, skipfooter, nrows, na_values, keep_default_na, na_filter, verbose, skip_blank_lines, parse_dates, infer_datetime_format, keep_date_col, date_parser, dayfirst, cache_dates, iterator, chunksize, compression, thousands, decimal, lineterminator, quotechar, quoting, doublequote, escapechar, comment, encoding, dialect, error_bad_lines, warn_bad_lines, delim_whitespace, low_memory, memory_map, float_precision)\u001b[0m\n\u001b[0;32m    674\u001b[0m         )\n\u001b[0;32m    675\u001b[0m \u001b[1;33m\u001b[0m\u001b[0m\n\u001b[1;32m--> 676\u001b[1;33m         \u001b[1;32mreturn\u001b[0m \u001b[0m_read\u001b[0m\u001b[1;33m(\u001b[0m\u001b[0mfilepath_or_buffer\u001b[0m\u001b[1;33m,\u001b[0m \u001b[0mkwds\u001b[0m\u001b[1;33m)\u001b[0m\u001b[1;33m\u001b[0m\u001b[1;33m\u001b[0m\u001b[0m\n\u001b[0m\u001b[0;32m    677\u001b[0m \u001b[1;33m\u001b[0m\u001b[0m\n\u001b[0;32m    678\u001b[0m     \u001b[0mparser_f\u001b[0m\u001b[1;33m.\u001b[0m\u001b[0m__name__\u001b[0m \u001b[1;33m=\u001b[0m \u001b[0mname\u001b[0m\u001b[1;33m\u001b[0m\u001b[1;33m\u001b[0m\u001b[0m\n",
      "\u001b[1;32m~\\Anaconda3\\lib\\site-packages\\pandas\\io\\parsers.py\u001b[0m in \u001b[0;36m_read\u001b[1;34m(filepath_or_buffer, kwds)\u001b[0m\n\u001b[0;32m    446\u001b[0m \u001b[1;33m\u001b[0m\u001b[0m\n\u001b[0;32m    447\u001b[0m     \u001b[1;31m# Create the parser.\u001b[0m\u001b[1;33m\u001b[0m\u001b[1;33m\u001b[0m\u001b[1;33m\u001b[0m\u001b[0m\n\u001b[1;32m--> 448\u001b[1;33m     \u001b[0mparser\u001b[0m \u001b[1;33m=\u001b[0m \u001b[0mTextFileReader\u001b[0m\u001b[1;33m(\u001b[0m\u001b[0mfp_or_buf\u001b[0m\u001b[1;33m,\u001b[0m \u001b[1;33m**\u001b[0m\u001b[0mkwds\u001b[0m\u001b[1;33m)\u001b[0m\u001b[1;33m\u001b[0m\u001b[1;33m\u001b[0m\u001b[0m\n\u001b[0m\u001b[0;32m    449\u001b[0m \u001b[1;33m\u001b[0m\u001b[0m\n\u001b[0;32m    450\u001b[0m     \u001b[1;32mif\u001b[0m \u001b[0mchunksize\u001b[0m \u001b[1;32mor\u001b[0m \u001b[0miterator\u001b[0m\u001b[1;33m:\u001b[0m\u001b[1;33m\u001b[0m\u001b[1;33m\u001b[0m\u001b[0m\n",
      "\u001b[1;32m~\\Anaconda3\\lib\\site-packages\\pandas\\io\\parsers.py\u001b[0m in \u001b[0;36m__init__\u001b[1;34m(self, f, engine, **kwds)\u001b[0m\n\u001b[0;32m    878\u001b[0m             \u001b[0mself\u001b[0m\u001b[1;33m.\u001b[0m\u001b[0moptions\u001b[0m\u001b[1;33m[\u001b[0m\u001b[1;34m\"has_index_names\"\u001b[0m\u001b[1;33m]\u001b[0m \u001b[1;33m=\u001b[0m \u001b[0mkwds\u001b[0m\u001b[1;33m[\u001b[0m\u001b[1;34m\"has_index_names\"\u001b[0m\u001b[1;33m]\u001b[0m\u001b[1;33m\u001b[0m\u001b[1;33m\u001b[0m\u001b[0m\n\u001b[0;32m    879\u001b[0m \u001b[1;33m\u001b[0m\u001b[0m\n\u001b[1;32m--> 880\u001b[1;33m         \u001b[0mself\u001b[0m\u001b[1;33m.\u001b[0m\u001b[0m_make_engine\u001b[0m\u001b[1;33m(\u001b[0m\u001b[0mself\u001b[0m\u001b[1;33m.\u001b[0m\u001b[0mengine\u001b[0m\u001b[1;33m)\u001b[0m\u001b[1;33m\u001b[0m\u001b[1;33m\u001b[0m\u001b[0m\n\u001b[0m\u001b[0;32m    881\u001b[0m \u001b[1;33m\u001b[0m\u001b[0m\n\u001b[0;32m    882\u001b[0m     \u001b[1;32mdef\u001b[0m \u001b[0mclose\u001b[0m\u001b[1;33m(\u001b[0m\u001b[0mself\u001b[0m\u001b[1;33m)\u001b[0m\u001b[1;33m:\u001b[0m\u001b[1;33m\u001b[0m\u001b[1;33m\u001b[0m\u001b[0m\n",
      "\u001b[1;32m~\\Anaconda3\\lib\\site-packages\\pandas\\io\\parsers.py\u001b[0m in \u001b[0;36m_make_engine\u001b[1;34m(self, engine)\u001b[0m\n\u001b[0;32m   1112\u001b[0m     \u001b[1;32mdef\u001b[0m \u001b[0m_make_engine\u001b[0m\u001b[1;33m(\u001b[0m\u001b[0mself\u001b[0m\u001b[1;33m,\u001b[0m \u001b[0mengine\u001b[0m\u001b[1;33m=\u001b[0m\u001b[1;34m\"c\"\u001b[0m\u001b[1;33m)\u001b[0m\u001b[1;33m:\u001b[0m\u001b[1;33m\u001b[0m\u001b[1;33m\u001b[0m\u001b[0m\n\u001b[0;32m   1113\u001b[0m         \u001b[1;32mif\u001b[0m \u001b[0mengine\u001b[0m \u001b[1;33m==\u001b[0m \u001b[1;34m\"c\"\u001b[0m\u001b[1;33m:\u001b[0m\u001b[1;33m\u001b[0m\u001b[1;33m\u001b[0m\u001b[0m\n\u001b[1;32m-> 1114\u001b[1;33m             \u001b[0mself\u001b[0m\u001b[1;33m.\u001b[0m\u001b[0m_engine\u001b[0m \u001b[1;33m=\u001b[0m \u001b[0mCParserWrapper\u001b[0m\u001b[1;33m(\u001b[0m\u001b[0mself\u001b[0m\u001b[1;33m.\u001b[0m\u001b[0mf\u001b[0m\u001b[1;33m,\u001b[0m \u001b[1;33m**\u001b[0m\u001b[0mself\u001b[0m\u001b[1;33m.\u001b[0m\u001b[0moptions\u001b[0m\u001b[1;33m)\u001b[0m\u001b[1;33m\u001b[0m\u001b[1;33m\u001b[0m\u001b[0m\n\u001b[0m\u001b[0;32m   1115\u001b[0m         \u001b[1;32melse\u001b[0m\u001b[1;33m:\u001b[0m\u001b[1;33m\u001b[0m\u001b[1;33m\u001b[0m\u001b[0m\n\u001b[0;32m   1116\u001b[0m             \u001b[1;32mif\u001b[0m \u001b[0mengine\u001b[0m \u001b[1;33m==\u001b[0m \u001b[1;34m\"python\"\u001b[0m\u001b[1;33m:\u001b[0m\u001b[1;33m\u001b[0m\u001b[1;33m\u001b[0m\u001b[0m\n",
      "\u001b[1;32m~\\Anaconda3\\lib\\site-packages\\pandas\\io\\parsers.py\u001b[0m in \u001b[0;36m__init__\u001b[1;34m(self, src, **kwds)\u001b[0m\n\u001b[0;32m   1889\u001b[0m         \u001b[0mkwds\u001b[0m\u001b[1;33m[\u001b[0m\u001b[1;34m\"usecols\"\u001b[0m\u001b[1;33m]\u001b[0m \u001b[1;33m=\u001b[0m \u001b[0mself\u001b[0m\u001b[1;33m.\u001b[0m\u001b[0musecols\u001b[0m\u001b[1;33m\u001b[0m\u001b[1;33m\u001b[0m\u001b[0m\n\u001b[0;32m   1890\u001b[0m \u001b[1;33m\u001b[0m\u001b[0m\n\u001b[1;32m-> 1891\u001b[1;33m         \u001b[0mself\u001b[0m\u001b[1;33m.\u001b[0m\u001b[0m_reader\u001b[0m \u001b[1;33m=\u001b[0m \u001b[0mparsers\u001b[0m\u001b[1;33m.\u001b[0m\u001b[0mTextReader\u001b[0m\u001b[1;33m(\u001b[0m\u001b[0msrc\u001b[0m\u001b[1;33m,\u001b[0m \u001b[1;33m**\u001b[0m\u001b[0mkwds\u001b[0m\u001b[1;33m)\u001b[0m\u001b[1;33m\u001b[0m\u001b[1;33m\u001b[0m\u001b[0m\n\u001b[0m\u001b[0;32m   1892\u001b[0m         \u001b[0mself\u001b[0m\u001b[1;33m.\u001b[0m\u001b[0munnamed_cols\u001b[0m \u001b[1;33m=\u001b[0m \u001b[0mself\u001b[0m\u001b[1;33m.\u001b[0m\u001b[0m_reader\u001b[0m\u001b[1;33m.\u001b[0m\u001b[0munnamed_cols\u001b[0m\u001b[1;33m\u001b[0m\u001b[1;33m\u001b[0m\u001b[0m\n\u001b[0;32m   1893\u001b[0m \u001b[1;33m\u001b[0m\u001b[0m\n",
      "\u001b[1;32mpandas\\_libs\\parsers.pyx\u001b[0m in \u001b[0;36mpandas._libs.parsers.TextReader.__cinit__\u001b[1;34m()\u001b[0m\n",
      "\u001b[1;32mpandas\\_libs\\parsers.pyx\u001b[0m in \u001b[0;36mpandas._libs.parsers.TextReader._setup_parser_source\u001b[1;34m()\u001b[0m\n",
      "\u001b[1;31mFileNotFoundError\u001b[0m: [Errno 2] File winequalityN.csv does not exist: 'winequalityN.csv'"
     ]
    }
   ],
   "source": [
    "arquivo = pd.read_csv('winequalityN.csv')\n",
    "arquivo\n",
    "\n",
    "# tabela do vinho pega pela internet cvs"
   ]
  },
  {
   "cell_type": "code",
   "execution_count": null,
   "metadata": {},
   "outputs": [],
   "source": [
    "Novatabela = arquivo.loc[:, ['type', 'fixed acidity','volatile acidity','citric acid', 'residual sugar',\n",
    "                           'density', 'pH', 'alcohol', 'quality']]"
   ]
  },
  {
   "cell_type": "code",
   "execution_count": null,
   "metadata": {
    "scrolled": true
   },
   "outputs": [],
   "source": [
    "Novatabela\n",
    "# filtro para so pegar as colunas que interessam"
   ]
  },
  {
   "cell_type": "code",
   "execution_count": null,
   "metadata": {},
   "outputs": [],
   "source": [
    "Novatabela.columns"
   ]
  },
  {
   "cell_type": "code",
   "execution_count": null,
   "metadata": {},
   "outputs": [],
   "source": [
    "novo= Novatabela.rename(columns= {\"type\": \"tipo\", \"fixed acidity\": \"acidez\", \"volatile acidity\": \"volatilidadeAcida\",\n",
    "                                \"citric acid\": \"AcidezCitrica\", \"residual sugar\": \"AçucarResidual\",\"density\": \"densidade\",\n",
    "                               \"pH\": \"pH\", \"alcohol\": \"álcool\", \"quality\": \"Qualidade\"})\n",
    "# criando um novo data frame para traduzir as colunas para portugues"
   ]
  },
  {
   "cell_type": "code",
   "execution_count": null,
   "metadata": {},
   "outputs": [],
   "source": [
    "# tipo novo\n",
    "\n",
    "novo.loc[novo.tipo =='red', 'Tipo Binário'] = 1\n",
    "novo.loc[novo.tipo =='white', 'Tipo Binário'] = 0\n",
    "novo\n",
    "\n",
    "# criando uma nova coluna em que tranformamos nosso target data em um estatististica quantitativa para que pudessemos aplicar nosso metodo de random forest"
   ]
  },
  {
   "cell_type": "code",
   "execution_count": null,
   "metadata": {
    "scrolled": true
   },
   "outputs": [],
   "source": [
    "novo"
   ]
  },
  {
   "cell_type": "markdown",
   "metadata": {},
   "source": [
    "### MÉTODO RANDOM FOREST\n",
    "\n",
    "     O método RANDOM FOREST ou RANDOM DECISION FOREST, também utilizado para classificação e regressão, o método opera construindo múltiplos árvores de decisões nas informações de treino, devolvendo um molde da predição média da árvores de decisões. \n",
    "     Esse método foi utilizado para a classificação do vinho, sendo branco ou tinto, por meio de uma média das arvóres, feita pelo próprio método, assim adicionado também ao final da classificação um gráfico matriz onde pode ser analizado por porcetagens."
   ]
  },
  {
   "cell_type": "code",
   "execution_count": null,
   "metadata": {
    "scrolled": false
   },
   "outputs": [],
   "source": [
    "#Limpamos todos os dados nulos por meio dessas ferrafemtas\n",
    "\n",
    "# Retirando data perdido no dataframe.\n",
    "data_acidez = ~novo.acidez.isnull()\n",
    "data_volatilidade = ~novo.volatilidadeAcida.isnull()\n",
    "data_critica = ~novo.AcidezCitrica.isnull()\n",
    "data_acucar = ~novo.AçucarResidual.isnull()\n",
    "data_ph = ~novo.pH.isnull()\n",
    "filtrado = novo[data_acidez & data_volatilidade & data_critica & data_acucar & data_ph].copy()\n",
    "# Verificando as informações perdidas no dataset.\n",
    "filtrado.isnull().sum()"
   ]
  },
  {
   "cell_type": "code",
   "execution_count": null,
   "metadata": {},
   "outputs": [],
   "source": [
    "filtrado"
   ]
  },
  {
   "cell_type": "code",
   "execution_count": null,
   "metadata": {},
   "outputs": [],
   "source": [
    "# separamos as colonas para mostrar nossas features e a nossa informacao alvo\n",
    "X = filtrado.iloc[:,1:9].values # ESSES SAO OS FEATURES\n",
    "Y = filtrado.iloc[:,9].values  # ESSE É O TARGET \n",
    "Z = X, Y\n"
   ]
  },
  {
   "cell_type": "code",
   "execution_count": null,
   "metadata": {},
   "outputs": [],
   "source": [
    "#separamos em duas tabelas uma teste e outra de treino\n",
    "from sklearn.model_selection import train_test_split\n",
    "\n",
    "X_train, X_test, y_train, y_test = train_test_split(X, Y, test_size=0.3, random_state=0)"
   ]
  },
  {
   "cell_type": "code",
   "execution_count": null,
   "metadata": {
    "scrolled": true
   },
   "outputs": [],
   "source": [
    "# Utilizamos o metodo random forest para prever o tipo de vinho \n",
    "from sklearn.ensemble import RandomForestClassifier\n",
    "\n",
    "classifier = RandomForestClassifier(n_estimators=20, random_state=0)\n",
    "classifier.fit(X_train, y_train)\n",
    "Y_pred = classifier.predict(X_test)\n",
    "Y_pred"
   ]
  },
  {
   "cell_type": "code",
   "execution_count": null,
   "metadata": {
    "scrolled": true
   },
   "outputs": [],
   "source": [
    "# Vendo a acuracia\n",
    "classifier.score(X_test, y_test)"
   ]
  },
  {
   "cell_type": "code",
   "execution_count": null,
   "metadata": {},
   "outputs": [],
   "source": [
    "# Criando matriz de confusão\n",
    "\n",
    "fig, ax= plt.subplots(figsize=(8,8))\n",
    "\n",
    "plot_confusion_matrix(classifier, X_test, y_test, normalize=\"all\", display_labels=[\"Negativo\", \"Positivo\"],\n",
    "                     cmap=\"Reds\", ax=ax, values_format=\".2%\")\n",
    "plt.xlabel(\"Previsão\")\n",
    "plt.ylabel(\"Verdadeiro\")\n",
    "plt.title(\"Matriz de confusão\")\n",
    "plt.show()"
   ]
  },
  {
   "cell_type": "code",
   "execution_count": null,
   "metadata": {
    "scrolled": true
   },
   "outputs": [],
   "source": [
    "# vendo os dados estátísticos Básicos da tabela\n",
    "novo.describe()"
   ]
  },
  {
   "cell_type": "code",
   "execution_count": null,
   "metadata": {
    "scrolled": false
   },
   "outputs": [],
   "source": [
    "novo.tipo.describe()"
   ]
  },
  {
   "cell_type": "code",
   "execution_count": null,
   "metadata": {},
   "outputs": [],
   "source": [
    "novo.tipo.value_counts(True)"
   ]
  },
  {
   "cell_type": "markdown",
   "metadata": {},
   "source": [
    "A partir da tabale criada usando a ferramenta describe() no dataset, podemos perceber que ha mais vinho branco que vermelho."
   ]
  },
  {
   "cell_type": "markdown",
   "metadata": {},
   "source": [
    "VAMOS ANALISAR OS TIPOS DE VINHO SEPARADAMENTE PARA VER SUAS ESTATISTICAS"
   ]
  },
  {
   "cell_type": "code",
   "execution_count": null,
   "metadata": {},
   "outputs": [],
   "source": [
    "novo[novo.tipo == 'white'].describe()"
   ]
  },
  {
   "cell_type": "code",
   "execution_count": null,
   "metadata": {
    "scrolled": true
   },
   "outputs": [],
   "source": [
    "novo[novo.tipo == 'red'].describe()"
   ]
  },
  {
   "cell_type": "markdown",
   "metadata": {},
   "source": [
    "Olhando para as duas tabelas acima, \n",
    "podemos concluir que o vinho vermelho é mais ácido que o vinho branco.\n",
    "Mostrando uma maior acidez em seus quartis e um maximo maior."
   ]
  },
  {
   "cell_type": "markdown",
   "metadata": {},
   "source": [
    " ### MÉTODO DECISION TREE\n",
    " \n",
    "     Ela é uma técnica de apredizagem, que é utilizada para problemas de classificações ou regressôes, mas, mais como comumente usada para classificação. É um classificador com uma estrutura de árvore onde seus nós internos representam os recursos do dataset e os galhos representam as regras de decisões e por fim, criando suas folhas que são representadas como a predição do resultado.\n",
    "     No desenvolvimento do projeto, a técnica foi utilizada para a classificar o tipo do vinho se é branco ou tinto, por meio das informações fornecidas pelas colunas do nosso dataset, nas quais são chamadas de features."
   ]
  },
  {
   "cell_type": "code",
   "execution_count": null,
   "metadata": {},
   "outputs": [],
   "source": [
    "features = ['acidez', 'volatilidadeAcida', 'AcidezCitrica', 'AçucarResidual','densidade','pH','álcool', 'Qualidade']\n",
    "X = filtrado[features] # Features\n",
    "y = filtrado['Tipo Binário'] # Target variable\n",
    "clf = tree.DecisionTreeClassifier()\n",
    "clf = clf.fit(X, y)\n",
    "decision_tree = DecisionTreeClassifier(random_state=0, max_depth=4)\n",
    "decision_tree = decision_tree.fit(X, Y)\n",
    "decision_tree\n",
    "plt.figure(figsize=(100,100))  # set plot size (denoted in inches)\n",
    "fig, ax = plt.subplots(figsize=(650, 500))  # whatever size you want\n",
    "tree.plot_tree(clf, fontsize=100)\n",
    "plt.savefig('tree_high_dpi', dpi=100)\n",
    "plt.show()\n"
   ]
  },
  {
   "cell_type": "code",
   "execution_count": null,
   "metadata": {},
   "outputs": [],
   "source": [
    "features = ['acidez', 'volatilidadeAcida', 'AcidezCitrica', 'AçucarResidual','densidade','pH','álcool', 'Qualidade']\n",
    "\n",
    "z = filtrado[features] # Features\n",
    "p = filtrado['Tipo Binário'] # Target variable\n",
    "\n",
    "z_train, z_test, p_train, p_test= train_test_split(z, p, test_size=0.3, random_state=1)"
   ]
  },
  {
   "cell_type": "code",
   "execution_count": null,
   "metadata": {},
   "outputs": [],
   "source": [
    "v= DecisionTreeClassifier(criterion= \"entropy\")\n",
    "v.fit(z_train, p_train)\n",
    "cara= v.predict(z_test)\n",
    "\n",
    "print(f\"A acuracia é: {round((metrics.accuracy_score(p_test, cara)*100),2)}%\")"
   ]
  },
  {
   "cell_type": "code",
   "execution_count": null,
   "metadata": {},
   "outputs": [],
   "source": [
    "fig, ax= plt.subplots(figsize=(8,8))\n",
    "\n",
    "plot_confusion_matrix(v, z_test, p_test, normalize=\"all\", display_labels=[\"Negativo\", \"Positivo\"],\n",
    "                     cmap=\"Greens\", ax=ax, values_format=\".2%\")\n",
    "plt.xlabel(\"Previsão\")\n",
    "plt.ylabel(\"Verdadeiro\")\n",
    "plt.title(\"Matriz de confusão\")\n",
    "plt.show()"
   ]
  },
  {
   "cell_type": "code",
   "execution_count": null,
   "metadata": {},
   "outputs": [],
   "source": [
    "feature=['acidez', 'volatilidadeAcida', 'AcidezCitrica', 'AçucarResidual', 'densidade', 'pH', 'álcool',\n",
    "         'Qualidade']"
   ]
  },
  {
   "cell_type": "code",
   "execution_count": null,
   "metadata": {},
   "outputs": [],
   "source": [
    "v1= pd.Series(classifier.feature_importances_, index=feature).sort_values(ascending=False).round(5)*100\n",
    "v2= pd.Series(v.feature_importances_, index=features).sort_values(ascending=False).round(5)*100\n",
    "\n",
    "plt.figure(figsize=(13, 6))\n",
    "\n",
    "plt.subplot(121)\n",
    "sns.barplot(v1, v1.index, palette=\"Greens_d\")\n",
    "plt.title(\"Importância no modelo Random Forest\")\n",
    "plt.xlabel(\"importância\")\n",
    "plt.grid(True)\n",
    "\n",
    "plt.subplot(122)\n",
    "sns.barplot(v2, v2.index, palette=\"Greens_d\")\n",
    "plt.title(\"Importância no modelo Decision Tree\")\n",
    "plt.xlabel(\"importância\")\n",
    "plt.grid(True)\n",
    "\n",
    "plt.tight_layout();"
   ]
  },
  {
   "cell_type": "markdown",
   "metadata": {},
   "source": [
    "\n",
    "\n",
    "# Futuras iterações: \n",
    "- Poderíamos utilizar outro dataset com mais informações qualitativas mais equilibradas e até mesmo outros tipos de vinho \n",
    "- Poderíamos ter outra classificações, como se o vinho é mais ácido ou não, ou qual tipo de vinho seria mais suave \n",
    "- Poderíamos utilizar outras técnicas, como o Naive-Bayes ou regressão logísitca"
   ]
  },
  {
   "cell_type": "markdown",
   "metadata": {},
   "source": [
    "# Desenvolvimento\n",
    "O inicio do nosso projeto foi dado por meio de pequenas explorações no dataframe, onde o integrante Bruno foi responsável pelo começo das classificações e explorações no projeto, desenvolvendo técnicas de abordagem válidas. Já Luis Antônio, juntamente com Bruno, constituiram técnicas mais adequadas, omde foram desenvolvidos métodos de classificação, explicados no projetom, que mostram análises de forma clara e objetiva para que o projeto tivesse um melhor desenvolvimento. Larissa, a terceira integrante, foi responsável pelos gráficos, onde reflete o desenvolvimento dos métodos em forma de uma análise mais visual e percentual. Assim, o grupo, concluindo que, de forma visualmente notável, todos os membros tiveram participações importantes a realizar no projeto \n"
   ]
  },
  {
   "cell_type": "markdown",
   "metadata": {},
   "source": [
    "# Conclusão final\n",
    "Os dois métodos de classificação utilizados nesse projeto, por meio das informações fornecidades pelo dataset dos vinhos, conseguiram classificar, de uma forma precisa, o tipo de vinho que, provavelmente, seria escolhido aleatoariamente. Concluimos, também, que há uma maior probabilidade de o vinho escolhido ser do tipo branco."
   ]
  },
  {
   "cell_type": "markdown",
   "metadata": {},
   "source": [
    "### Referências\n",
    "\n",
    "https://towardsdatascience.com/exploratory-data-analysis-eda-python-87178e35b14\n",
    "\n",
    "https://matplotlib.org/stable/api/_as_gen/matplotlib.pyplot.hist.html\n",
    "\n",
    "https://stackoverflow.com/questions/59447378/sklearn-plot-tree-plot-is-too-small\n",
    "\n",
    "https://towardsdatascience.com/visualizing-data-with-pair-plots-in-python-f228cf529166\n",
    "\n",
    "https://machinelearningmastery.com/calculate-feature-importance-with-python/"
   ]
  }
 ],
 "metadata": {
  "kernelspec": {
   "display_name": "Python 3",
   "language": "python",
   "name": "python3"
  },
  "language_info": {
   "codemirror_mode": {
    "name": "ipython",
    "version": 3
   },
   "file_extension": ".py",
   "mimetype": "text/x-python",
   "name": "python",
   "nbconvert_exporter": "python",
   "pygments_lexer": "ipython3",
   "version": "3.8.3"
  }
 },
 "nbformat": 4,
 "nbformat_minor": 4
}
